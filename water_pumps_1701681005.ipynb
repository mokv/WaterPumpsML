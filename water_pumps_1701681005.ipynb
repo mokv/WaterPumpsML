{
  "nbformat": 4,
  "nbformat_minor": 0,
  "metadata": {
    "colab": {
      "name": "water_pumps_1701681005.ipynb",
      "provenance": [],
      "collapsed_sections": [],
      "authorship_tag": "ABX9TyNeDcOzAiP5rIdQ5Dy2+znP",
      "include_colab_link": true
    },
    "kernelspec": {
      "name": "python3",
      "display_name": "Python 3"
    },
    "language_info": {
      "name": "python"
    }
  },
  "cells": [
    {
      "cell_type": "markdown",
      "metadata": {
        "id": "view-in-github",
        "colab_type": "text"
      },
      "source": [
        "<a href=\"https://colab.research.google.com/github/mokv/WaterPumpsML/blob/main/water_pumps_1701681005.ipynb\" target=\"_parent\"><img src=\"https://colab.research.google.com/assets/colab-badge.svg\" alt=\"Open In Colab\"/></a>"
      ]
    },
    {
      "cell_type": "markdown",
      "metadata": {
        "id": "NIakmL7FgdzP"
      },
      "source": [
        "#Import\n",
        "Import training and testing data sets."
      ]
    },
    {
      "cell_type": "code",
      "metadata": {
        "id": "fBDZSfz1gEfc"
      },
      "source": [
        "import pandas as pd\n",
        "\n",
        "train_set = pd.read_csv('https://ml.monov.eu/pumps/train_pumps.csv')\n",
        "test_set = pd.read_csv('https://ml.monov.eu/pumps/test_pumps.csv')"
      ],
      "execution_count": null,
      "outputs": []
    },
    {
      "cell_type": "markdown",
      "metadata": {
        "id": "0aRDoDwwgOGv"
      },
      "source": [
        "We combine the two data sets so that we proccess the data as a whole. Later we'll split the data into two parts for training, validation and testing."
      ]
    },
    {
      "cell_type": "code",
      "metadata": {
        "colab": {
          "base_uri": "https://localhost:8080/",
          "height": 360
        },
        "id": "_C_svDM0gsFV",
        "outputId": "14fb5ab0-0eda-458b-8018-50661cae511e"
      },
      "source": [
        "whole_set = pd.concat([train_set, test_set])\n",
        "whole_set.head()"
      ],
      "execution_count": null,
      "outputs": [
        {
          "output_type": "execute_result",
          "data": {
            "text/html": [
              "<div>\n",
              "<style scoped>\n",
              "    .dataframe tbody tr th:only-of-type {\n",
              "        vertical-align: middle;\n",
              "    }\n",
              "\n",
              "    .dataframe tbody tr th {\n",
              "        vertical-align: top;\n",
              "    }\n",
              "\n",
              "    .dataframe thead th {\n",
              "        text-align: right;\n",
              "    }\n",
              "</style>\n",
              "<table border=\"1\" class=\"dataframe\">\n",
              "  <thead>\n",
              "    <tr style=\"text-align: right;\">\n",
              "      <th></th>\n",
              "      <th>id</th>\n",
              "      <th>amount_tsh</th>\n",
              "      <th>funder</th>\n",
              "      <th>gps_height</th>\n",
              "      <th>installer</th>\n",
              "      <th>longitude</th>\n",
              "      <th>latitude</th>\n",
              "      <th>wpt_name</th>\n",
              "      <th>num_private</th>\n",
              "      <th>basin</th>\n",
              "      <th>subvillage</th>\n",
              "      <th>region</th>\n",
              "      <th>region_code</th>\n",
              "      <th>district_code</th>\n",
              "      <th>lga</th>\n",
              "      <th>ward</th>\n",
              "      <th>population</th>\n",
              "      <th>public_meeting</th>\n",
              "      <th>scheme_management</th>\n",
              "      <th>scheme_name</th>\n",
              "      <th>permit</th>\n",
              "      <th>construction_year</th>\n",
              "      <th>extraction_type</th>\n",
              "      <th>extraction_type_group</th>\n",
              "      <th>extraction_type_class</th>\n",
              "      <th>management</th>\n",
              "      <th>management_group</th>\n",
              "      <th>payment</th>\n",
              "      <th>payment_type</th>\n",
              "      <th>water_quality</th>\n",
              "      <th>quality_group</th>\n",
              "      <th>quantity</th>\n",
              "      <th>quantity_group</th>\n",
              "      <th>source</th>\n",
              "      <th>source_type</th>\n",
              "      <th>source_class</th>\n",
              "      <th>waterpoint_type</th>\n",
              "      <th>waterpoint_type_group</th>\n",
              "      <th>status_group</th>\n",
              "    </tr>\n",
              "  </thead>\n",
              "  <tbody>\n",
              "    <tr>\n",
              "      <th>0</th>\n",
              "      <td>71382</td>\n",
              "      <td>0.0</td>\n",
              "      <td>Twesa</td>\n",
              "      <td>0</td>\n",
              "      <td>TWESA</td>\n",
              "      <td>32.880835</td>\n",
              "      <td>-3.592052e+00</td>\n",
              "      <td>Lyagiti Shuleni</td>\n",
              "      <td>0</td>\n",
              "      <td>Lake Victoria</td>\n",
              "      <td>Mwabaluhi</td>\n",
              "      <td>Shinyanga</td>\n",
              "      <td>17</td>\n",
              "      <td>3</td>\n",
              "      <td>Shinyanga Rural</td>\n",
              "      <td>Lyabukande</td>\n",
              "      <td>0</td>\n",
              "      <td>False</td>\n",
              "      <td>Parastatal</td>\n",
              "      <td>NaN</td>\n",
              "      <td>True</td>\n",
              "      <td>0</td>\n",
              "      <td>other</td>\n",
              "      <td>other</td>\n",
              "      <td>other</td>\n",
              "      <td>parastatal</td>\n",
              "      <td>parastatal</td>\n",
              "      <td>never pay</td>\n",
              "      <td>never pay</td>\n",
              "      <td>soft</td>\n",
              "      <td>good</td>\n",
              "      <td>seasonal</td>\n",
              "      <td>seasonal</td>\n",
              "      <td>rainwater harvesting</td>\n",
              "      <td>rainwater harvesting</td>\n",
              "      <td>surface</td>\n",
              "      <td>other</td>\n",
              "      <td>other</td>\n",
              "      <td>functional needs repair</td>\n",
              "    </tr>\n",
              "    <tr>\n",
              "      <th>1</th>\n",
              "      <td>67471</td>\n",
              "      <td>20.0</td>\n",
              "      <td>Government Of Tanzania</td>\n",
              "      <td>971</td>\n",
              "      <td>DWE</td>\n",
              "      <td>36.824159</td>\n",
              "      <td>-3.500453e+00</td>\n",
              "      <td>Kwa Tomasi Emanuel</td>\n",
              "      <td>0</td>\n",
              "      <td>Pangani</td>\n",
              "      <td>Marurani Kati</td>\n",
              "      <td>Arusha</td>\n",
              "      <td>2</td>\n",
              "      <td>2</td>\n",
              "      <td>Arusha Rural</td>\n",
              "      <td>Nduruma</td>\n",
              "      <td>150</td>\n",
              "      <td>True</td>\n",
              "      <td>VWC</td>\n",
              "      <td>Machumba estate pipe line</td>\n",
              "      <td>True</td>\n",
              "      <td>2009</td>\n",
              "      <td>gravity</td>\n",
              "      <td>gravity</td>\n",
              "      <td>gravity</td>\n",
              "      <td>vwc</td>\n",
              "      <td>user-group</td>\n",
              "      <td>pay per bucket</td>\n",
              "      <td>per bucket</td>\n",
              "      <td>soft</td>\n",
              "      <td>good</td>\n",
              "      <td>insufficient</td>\n",
              "      <td>insufficient</td>\n",
              "      <td>spring</td>\n",
              "      <td>spring</td>\n",
              "      <td>groundwater</td>\n",
              "      <td>communal standpipe</td>\n",
              "      <td>communal standpipe</td>\n",
              "      <td>functional needs repair</td>\n",
              "    </tr>\n",
              "    <tr>\n",
              "      <th>2</th>\n",
              "      <td>22778</td>\n",
              "      <td>200.0</td>\n",
              "      <td>Mwaya Mn</td>\n",
              "      <td>262</td>\n",
              "      <td>Communit</td>\n",
              "      <td>36.906584</td>\n",
              "      <td>-7.835830e+00</td>\n",
              "      <td>Kwamakingi</td>\n",
              "      <td>0</td>\n",
              "      <td>Rufiji</td>\n",
              "      <td>Mlagayai</td>\n",
              "      <td>Morogoro</td>\n",
              "      <td>5</td>\n",
              "      <td>3</td>\n",
              "      <td>Kilombero</td>\n",
              "      <td>Mang'ula</td>\n",
              "      <td>200</td>\n",
              "      <td>True</td>\n",
              "      <td>WUA</td>\n",
              "      <td>Mangula</td>\n",
              "      <td>True</td>\n",
              "      <td>2009</td>\n",
              "      <td>gravity</td>\n",
              "      <td>gravity</td>\n",
              "      <td>gravity</td>\n",
              "      <td>vwc</td>\n",
              "      <td>user-group</td>\n",
              "      <td>pay monthly</td>\n",
              "      <td>monthly</td>\n",
              "      <td>soft</td>\n",
              "      <td>good</td>\n",
              "      <td>insufficient</td>\n",
              "      <td>insufficient</td>\n",
              "      <td>river</td>\n",
              "      <td>river/lake</td>\n",
              "      <td>surface</td>\n",
              "      <td>communal standpipe</td>\n",
              "      <td>communal standpipe</td>\n",
              "      <td>functional needs repair</td>\n",
              "    </tr>\n",
              "    <tr>\n",
              "      <th>3</th>\n",
              "      <td>26356</td>\n",
              "      <td>500.0</td>\n",
              "      <td>Unicef/central</td>\n",
              "      <td>1737</td>\n",
              "      <td>DWE</td>\n",
              "      <td>34.697489</td>\n",
              "      <td>-9.110604e+00</td>\n",
              "      <td>Shuleni</td>\n",
              "      <td>0</td>\n",
              "      <td>Rufiji</td>\n",
              "      <td>Ngelele</td>\n",
              "      <td>Iringa</td>\n",
              "      <td>11</td>\n",
              "      <td>4</td>\n",
              "      <td>Njombe</td>\n",
              "      <td>Mdandu</td>\n",
              "      <td>350</td>\n",
              "      <td>True</td>\n",
              "      <td>WUA</td>\n",
              "      <td>wanging'ombe water supply s</td>\n",
              "      <td>True</td>\n",
              "      <td>1974</td>\n",
              "      <td>gravity</td>\n",
              "      <td>gravity</td>\n",
              "      <td>gravity</td>\n",
              "      <td>wua</td>\n",
              "      <td>user-group</td>\n",
              "      <td>pay monthly</td>\n",
              "      <td>monthly</td>\n",
              "      <td>soft</td>\n",
              "      <td>good</td>\n",
              "      <td>enough</td>\n",
              "      <td>enough</td>\n",
              "      <td>river</td>\n",
              "      <td>river/lake</td>\n",
              "      <td>surface</td>\n",
              "      <td>communal standpipe</td>\n",
              "      <td>communal standpipe</td>\n",
              "      <td>others</td>\n",
              "    </tr>\n",
              "    <tr>\n",
              "      <th>4</th>\n",
              "      <td>70935</td>\n",
              "      <td>0.0</td>\n",
              "      <td>Dwsp</td>\n",
              "      <td>0</td>\n",
              "      <td>DWE</td>\n",
              "      <td>0.000000</td>\n",
              "      <td>-2.000000e-08</td>\n",
              "      <td>Izinga</td>\n",
              "      <td>0</td>\n",
              "      <td>Lake Victoria</td>\n",
              "      <td>Mwakapalala</td>\n",
              "      <td>Shinyanga</td>\n",
              "      <td>17</td>\n",
              "      <td>1</td>\n",
              "      <td>Bariadi</td>\n",
              "      <td>Nkoma</td>\n",
              "      <td>0</td>\n",
              "      <td>True</td>\n",
              "      <td>WUG</td>\n",
              "      <td>NaN</td>\n",
              "      <td>False</td>\n",
              "      <td>0</td>\n",
              "      <td>swn 80</td>\n",
              "      <td>swn 80</td>\n",
              "      <td>handpump</td>\n",
              "      <td>wug</td>\n",
              "      <td>user-group</td>\n",
              "      <td>pay when scheme fails</td>\n",
              "      <td>on failure</td>\n",
              "      <td>soft</td>\n",
              "      <td>good</td>\n",
              "      <td>insufficient</td>\n",
              "      <td>insufficient</td>\n",
              "      <td>shallow well</td>\n",
              "      <td>shallow well</td>\n",
              "      <td>groundwater</td>\n",
              "      <td>other</td>\n",
              "      <td>other</td>\n",
              "      <td>functional needs repair</td>\n",
              "    </tr>\n",
              "  </tbody>\n",
              "</table>\n",
              "</div>"
            ],
            "text/plain": [
              "      id  amount_tsh  ... waterpoint_type_group             status_group\n",
              "0  71382         0.0  ...                 other  functional needs repair\n",
              "1  67471        20.0  ...    communal standpipe  functional needs repair\n",
              "2  22778       200.0  ...    communal standpipe  functional needs repair\n",
              "3  26356       500.0  ...    communal standpipe                   others\n",
              "4  70935         0.0  ...                 other  functional needs repair\n",
              "\n",
              "[5 rows x 39 columns]"
            ]
          },
          "metadata": {
            "tags": []
          },
          "execution_count": 2
        }
      ]
    },
    {
      "cell_type": "markdown",
      "metadata": {
        "id": "5blV7fFwhOEf"
      },
      "source": [
        "#Process Data\n",
        "Now we define the columns that we're going to process and use later."
      ]
    },
    {
      "cell_type": "code",
      "metadata": {
        "id": "-JNTzB8bhTUw"
      },
      "source": [
        "num_cols = ['gps_height', 'longitude', 'latitude', 'population', 'construction_year', 'amount_tsh']\n",
        "cat_cols = ['funder', 'installer', 'basin', 'subvillage', 'lga', 'region_code', 'payment', 'payment_type'\n",
        "          , 'ward', 'public_meeting', 'scheme_management', 'permit', 'extraction_type', 'waterpoint_type'\n",
        "          , 'extraction_type_group', 'extraction_type_class', 'management', 'management_group'\n",
        "          , 'water_quality', 'quality_group', 'quantity', 'source', 'quantity_group', 'source_type', 'source_class'\n",
        "          , 'waterpoint_type_group']\n",
        "out_cols = ['status_group']"
      ],
      "execution_count": null,
      "outputs": []
    },
    {
      "cell_type": "markdown",
      "metadata": {
        "id": "-GvS3-d5iSWx"
      },
      "source": [
        "## Convert categorical values to numeric\n",
        "We convert categorical string values into numeric values so that we can do the math on them. This includes the output column as well."
      ]
    },
    {
      "cell_type": "code",
      "metadata": {
        "colab": {
          "base_uri": "https://localhost:8080/",
          "height": 292
        },
        "id": "sxEouNwvh1-D",
        "outputId": "d7ff762a-914a-4322-a6f4-bf936f5ef0e2"
      },
      "source": [
        "for cat in cat_cols:\n",
        "  whole_set[cat] = whole_set[cat].astype('category').cat.codes.values\n",
        "\n",
        "for out in out_cols:\n",
        "  whole_set[out] = whole_set[out].astype('category').cat.codes.values\n",
        "\n",
        "whole_set.head()"
      ],
      "execution_count": null,
      "outputs": [
        {
          "output_type": "execute_result",
          "data": {
            "text/html": [
              "<div>\n",
              "<style scoped>\n",
              "    .dataframe tbody tr th:only-of-type {\n",
              "        vertical-align: middle;\n",
              "    }\n",
              "\n",
              "    .dataframe tbody tr th {\n",
              "        vertical-align: top;\n",
              "    }\n",
              "\n",
              "    .dataframe thead th {\n",
              "        text-align: right;\n",
              "    }\n",
              "</style>\n",
              "<table border=\"1\" class=\"dataframe\">\n",
              "  <thead>\n",
              "    <tr style=\"text-align: right;\">\n",
              "      <th></th>\n",
              "      <th>id</th>\n",
              "      <th>amount_tsh</th>\n",
              "      <th>funder</th>\n",
              "      <th>gps_height</th>\n",
              "      <th>installer</th>\n",
              "      <th>longitude</th>\n",
              "      <th>latitude</th>\n",
              "      <th>wpt_name</th>\n",
              "      <th>num_private</th>\n",
              "      <th>basin</th>\n",
              "      <th>subvillage</th>\n",
              "      <th>region</th>\n",
              "      <th>region_code</th>\n",
              "      <th>district_code</th>\n",
              "      <th>lga</th>\n",
              "      <th>ward</th>\n",
              "      <th>population</th>\n",
              "      <th>public_meeting</th>\n",
              "      <th>scheme_management</th>\n",
              "      <th>scheme_name</th>\n",
              "      <th>permit</th>\n",
              "      <th>construction_year</th>\n",
              "      <th>extraction_type</th>\n",
              "      <th>extraction_type_group</th>\n",
              "      <th>extraction_type_class</th>\n",
              "      <th>management</th>\n",
              "      <th>management_group</th>\n",
              "      <th>payment</th>\n",
              "      <th>payment_type</th>\n",
              "      <th>water_quality</th>\n",
              "      <th>quality_group</th>\n",
              "      <th>quantity</th>\n",
              "      <th>quantity_group</th>\n",
              "      <th>source</th>\n",
              "      <th>source_type</th>\n",
              "      <th>source_class</th>\n",
              "      <th>waterpoint_type</th>\n",
              "      <th>waterpoint_type_group</th>\n",
              "      <th>status_group</th>\n",
              "    </tr>\n",
              "  </thead>\n",
              "  <tbody>\n",
              "    <tr>\n",
              "      <th>0</th>\n",
              "      <td>71382</td>\n",
              "      <td>0.0</td>\n",
              "      <td>615</td>\n",
              "      <td>0</td>\n",
              "      <td>647</td>\n",
              "      <td>32.880835</td>\n",
              "      <td>-3.592052e+00</td>\n",
              "      <td>Lyagiti Shuleni</td>\n",
              "      <td>0</td>\n",
              "      <td>4</td>\n",
              "      <td>3887</td>\n",
              "      <td>Shinyanga</td>\n",
              "      <td>16</td>\n",
              "      <td>3</td>\n",
              "      <td>103</td>\n",
              "      <td>773</td>\n",
              "      <td>0</td>\n",
              "      <td>0</td>\n",
              "      <td>2</td>\n",
              "      <td>NaN</td>\n",
              "      <td>1</td>\n",
              "      <td>0</td>\n",
              "      <td>9</td>\n",
              "      <td>6</td>\n",
              "      <td>3</td>\n",
              "      <td>3</td>\n",
              "      <td>2</td>\n",
              "      <td>0</td>\n",
              "      <td>2</td>\n",
              "      <td>6</td>\n",
              "      <td>2</td>\n",
              "      <td>3</td>\n",
              "      <td>3</td>\n",
              "      <td>5</td>\n",
              "      <td>3</td>\n",
              "      <td>1</td>\n",
              "      <td>5</td>\n",
              "      <td>4</td>\n",
              "      <td>0</td>\n",
              "    </tr>\n",
              "    <tr>\n",
              "      <th>1</th>\n",
              "      <td>67471</td>\n",
              "      <td>20.0</td>\n",
              "      <td>175</td>\n",
              "      <td>971</td>\n",
              "      <td>156</td>\n",
              "      <td>36.824159</td>\n",
              "      <td>-3.500453e+00</td>\n",
              "      <td>Kwa Tomasi Emanuel</td>\n",
              "      <td>0</td>\n",
              "      <td>5</td>\n",
              "      <td>2890</td>\n",
              "      <td>Arusha</td>\n",
              "      <td>1</td>\n",
              "      <td>2</td>\n",
              "      <td>0</td>\n",
              "      <td>1316</td>\n",
              "      <td>150</td>\n",
              "      <td>1</td>\n",
              "      <td>6</td>\n",
              "      <td>Machumba estate pipe line</td>\n",
              "      <td>1</td>\n",
              "      <td>2009</td>\n",
              "      <td>3</td>\n",
              "      <td>1</td>\n",
              "      <td>0</td>\n",
              "      <td>7</td>\n",
              "      <td>4</td>\n",
              "      <td>4</td>\n",
              "      <td>5</td>\n",
              "      <td>6</td>\n",
              "      <td>2</td>\n",
              "      <td>2</td>\n",
              "      <td>2</td>\n",
              "      <td>8</td>\n",
              "      <td>6</td>\n",
              "      <td>0</td>\n",
              "      <td>1</td>\n",
              "      <td>1</td>\n",
              "      <td>0</td>\n",
              "    </tr>\n",
              "    <tr>\n",
              "      <th>2</th>\n",
              "      <td>22778</td>\n",
              "      <td>200.0</td>\n",
              "      <td>388</td>\n",
              "      <td>262</td>\n",
              "      <td>116</td>\n",
              "      <td>36.906584</td>\n",
              "      <td>-7.835830e+00</td>\n",
              "      <td>Kwamakingi</td>\n",
              "      <td>0</td>\n",
              "      <td>6</td>\n",
              "      <td>3446</td>\n",
              "      <td>Morogoro</td>\n",
              "      <td>4</td>\n",
              "      <td>3</td>\n",
              "      <td>35</td>\n",
              "      <td>878</td>\n",
              "      <td>200</td>\n",
              "      <td>1</td>\n",
              "      <td>7</td>\n",
              "      <td>Mangula</td>\n",
              "      <td>1</td>\n",
              "      <td>2009</td>\n",
              "      <td>3</td>\n",
              "      <td>1</td>\n",
              "      <td>0</td>\n",
              "      <td>7</td>\n",
              "      <td>4</td>\n",
              "      <td>3</td>\n",
              "      <td>1</td>\n",
              "      <td>6</td>\n",
              "      <td>2</td>\n",
              "      <td>2</td>\n",
              "      <td>2</td>\n",
              "      <td>6</td>\n",
              "      <td>4</td>\n",
              "      <td>1</td>\n",
              "      <td>1</td>\n",
              "      <td>1</td>\n",
              "      <td>0</td>\n",
              "    </tr>\n",
              "    <tr>\n",
              "      <th>3</th>\n",
              "      <td>26356</td>\n",
              "      <td>500.0</td>\n",
              "      <td>629</td>\n",
              "      <td>1737</td>\n",
              "      <td>156</td>\n",
              "      <td>34.697489</td>\n",
              "      <td>-9.110604e+00</td>\n",
              "      <td>Shuleni</td>\n",
              "      <td>0</td>\n",
              "      <td>6</td>\n",
              "      <td>4403</td>\n",
              "      <td>Iringa</td>\n",
              "      <td>10</td>\n",
              "      <td>4</td>\n",
              "      <td>91</td>\n",
              "      <td>988</td>\n",
              "      <td>350</td>\n",
              "      <td>1</td>\n",
              "      <td>7</td>\n",
              "      <td>wanging'ombe water supply s</td>\n",
              "      <td>1</td>\n",
              "      <td>1974</td>\n",
              "      <td>3</td>\n",
              "      <td>1</td>\n",
              "      <td>0</td>\n",
              "      <td>10</td>\n",
              "      <td>4</td>\n",
              "      <td>3</td>\n",
              "      <td>1</td>\n",
              "      <td>6</td>\n",
              "      <td>2</td>\n",
              "      <td>1</td>\n",
              "      <td>1</td>\n",
              "      <td>6</td>\n",
              "      <td>4</td>\n",
              "      <td>1</td>\n",
              "      <td>1</td>\n",
              "      <td>1</td>\n",
              "      <td>1</td>\n",
              "    </tr>\n",
              "    <tr>\n",
              "      <th>4</th>\n",
              "      <td>70935</td>\n",
              "      <td>0.0</td>\n",
              "      <td>137</td>\n",
              "      <td>0</td>\n",
              "      <td>156</td>\n",
              "      <td>0.000000</td>\n",
              "      <td>-2.000000e-08</td>\n",
              "      <td>Izinga</td>\n",
              "      <td>0</td>\n",
              "      <td>4</td>\n",
              "      <td>3944</td>\n",
              "      <td>Shinyanga</td>\n",
              "      <td>16</td>\n",
              "      <td>1</td>\n",
              "      <td>5</td>\n",
              "      <td>1371</td>\n",
              "      <td>0</td>\n",
              "      <td>1</td>\n",
              "      <td>8</td>\n",
              "      <td>NaN</td>\n",
              "      <td>0</td>\n",
              "      <td>0</td>\n",
              "      <td>14</td>\n",
              "      <td>11</td>\n",
              "      <td>1</td>\n",
              "      <td>11</td>\n",
              "      <td>4</td>\n",
              "      <td>5</td>\n",
              "      <td>3</td>\n",
              "      <td>6</td>\n",
              "      <td>2</td>\n",
              "      <td>2</td>\n",
              "      <td>2</td>\n",
              "      <td>7</td>\n",
              "      <td>5</td>\n",
              "      <td>0</td>\n",
              "      <td>5</td>\n",
              "      <td>4</td>\n",
              "      <td>0</td>\n",
              "    </tr>\n",
              "  </tbody>\n",
              "</table>\n",
              "</div>"
            ],
            "text/plain": [
              "      id  amount_tsh  ...  waterpoint_type_group  status_group\n",
              "0  71382         0.0  ...                      4             0\n",
              "1  67471        20.0  ...                      1             0\n",
              "2  22778       200.0  ...                      1             0\n",
              "3  26356       500.0  ...                      1             1\n",
              "4  70935         0.0  ...                      4             0\n",
              "\n",
              "[5 rows x 39 columns]"
            ]
          },
          "metadata": {
            "tags": []
          },
          "execution_count": 4
        }
      ]
    },
    {
      "cell_type": "markdown",
      "metadata": {
        "id": "8jRZKMDdmJe2"
      },
      "source": [
        "## Remove useless columns\n",
        "There are columns that don't need to convert them and they are unneeded since they don't bring any value to the model. For example, 'wpt_name', 'scheme_name' are only names that don't indicate anything related to the condition of the pipes. We'll remove everything that is not part of the selected columns. "
      ]
    },
    {
      "cell_type": "code",
      "metadata": {
        "colab": {
          "base_uri": "https://localhost:8080/"
        },
        "id": "G5jFarpUmnXn",
        "outputId": "7f1951e2-fd1a-4f5c-9044-f93707a58b94"
      },
      "source": [
        "used_columns = num_cols + cat_cols + out_cols\n",
        "columns_to_remove = [col for col in whole_set.columns if col not in used_columns ]\n",
        "\n",
        "print(columns_to_remove)"
      ],
      "execution_count": null,
      "outputs": [
        {
          "output_type": "stream",
          "text": [
            "['id', 'wpt_name', 'num_private', 'region', 'district_code', 'scheme_name']\n"
          ],
          "name": "stdout"
        }
      ]
    },
    {
      "cell_type": "code",
      "metadata": {
        "colab": {
          "base_uri": "https://localhost:8080/",
          "height": 224
        },
        "id": "swebbm8JpxIf",
        "outputId": "479eacee-f9e0-4b4a-98b2-7d6632346eec"
      },
      "source": [
        "whole_set = whole_set.drop(columns=columns_to_remove)\n",
        "whole_set.head()"
      ],
      "execution_count": null,
      "outputs": [
        {
          "output_type": "execute_result",
          "data": {
            "text/html": [
              "<div>\n",
              "<style scoped>\n",
              "    .dataframe tbody tr th:only-of-type {\n",
              "        vertical-align: middle;\n",
              "    }\n",
              "\n",
              "    .dataframe tbody tr th {\n",
              "        vertical-align: top;\n",
              "    }\n",
              "\n",
              "    .dataframe thead th {\n",
              "        text-align: right;\n",
              "    }\n",
              "</style>\n",
              "<table border=\"1\" class=\"dataframe\">\n",
              "  <thead>\n",
              "    <tr style=\"text-align: right;\">\n",
              "      <th></th>\n",
              "      <th>amount_tsh</th>\n",
              "      <th>funder</th>\n",
              "      <th>gps_height</th>\n",
              "      <th>installer</th>\n",
              "      <th>longitude</th>\n",
              "      <th>latitude</th>\n",
              "      <th>basin</th>\n",
              "      <th>subvillage</th>\n",
              "      <th>region_code</th>\n",
              "      <th>lga</th>\n",
              "      <th>ward</th>\n",
              "      <th>population</th>\n",
              "      <th>public_meeting</th>\n",
              "      <th>scheme_management</th>\n",
              "      <th>permit</th>\n",
              "      <th>construction_year</th>\n",
              "      <th>extraction_type</th>\n",
              "      <th>extraction_type_group</th>\n",
              "      <th>extraction_type_class</th>\n",
              "      <th>management</th>\n",
              "      <th>management_group</th>\n",
              "      <th>payment</th>\n",
              "      <th>payment_type</th>\n",
              "      <th>water_quality</th>\n",
              "      <th>quality_group</th>\n",
              "      <th>quantity</th>\n",
              "      <th>quantity_group</th>\n",
              "      <th>source</th>\n",
              "      <th>source_type</th>\n",
              "      <th>source_class</th>\n",
              "      <th>waterpoint_type</th>\n",
              "      <th>waterpoint_type_group</th>\n",
              "      <th>status_group</th>\n",
              "    </tr>\n",
              "  </thead>\n",
              "  <tbody>\n",
              "    <tr>\n",
              "      <th>0</th>\n",
              "      <td>0.0</td>\n",
              "      <td>615</td>\n",
              "      <td>0</td>\n",
              "      <td>647</td>\n",
              "      <td>32.880835</td>\n",
              "      <td>-3.592052e+00</td>\n",
              "      <td>4</td>\n",
              "      <td>3887</td>\n",
              "      <td>16</td>\n",
              "      <td>103</td>\n",
              "      <td>773</td>\n",
              "      <td>0</td>\n",
              "      <td>0</td>\n",
              "      <td>2</td>\n",
              "      <td>1</td>\n",
              "      <td>0</td>\n",
              "      <td>9</td>\n",
              "      <td>6</td>\n",
              "      <td>3</td>\n",
              "      <td>3</td>\n",
              "      <td>2</td>\n",
              "      <td>0</td>\n",
              "      <td>2</td>\n",
              "      <td>6</td>\n",
              "      <td>2</td>\n",
              "      <td>3</td>\n",
              "      <td>3</td>\n",
              "      <td>5</td>\n",
              "      <td>3</td>\n",
              "      <td>1</td>\n",
              "      <td>5</td>\n",
              "      <td>4</td>\n",
              "      <td>0</td>\n",
              "    </tr>\n",
              "    <tr>\n",
              "      <th>1</th>\n",
              "      <td>20.0</td>\n",
              "      <td>175</td>\n",
              "      <td>971</td>\n",
              "      <td>156</td>\n",
              "      <td>36.824159</td>\n",
              "      <td>-3.500453e+00</td>\n",
              "      <td>5</td>\n",
              "      <td>2890</td>\n",
              "      <td>1</td>\n",
              "      <td>0</td>\n",
              "      <td>1316</td>\n",
              "      <td>150</td>\n",
              "      <td>1</td>\n",
              "      <td>6</td>\n",
              "      <td>1</td>\n",
              "      <td>2009</td>\n",
              "      <td>3</td>\n",
              "      <td>1</td>\n",
              "      <td>0</td>\n",
              "      <td>7</td>\n",
              "      <td>4</td>\n",
              "      <td>4</td>\n",
              "      <td>5</td>\n",
              "      <td>6</td>\n",
              "      <td>2</td>\n",
              "      <td>2</td>\n",
              "      <td>2</td>\n",
              "      <td>8</td>\n",
              "      <td>6</td>\n",
              "      <td>0</td>\n",
              "      <td>1</td>\n",
              "      <td>1</td>\n",
              "      <td>0</td>\n",
              "    </tr>\n",
              "    <tr>\n",
              "      <th>2</th>\n",
              "      <td>200.0</td>\n",
              "      <td>388</td>\n",
              "      <td>262</td>\n",
              "      <td>116</td>\n",
              "      <td>36.906584</td>\n",
              "      <td>-7.835830e+00</td>\n",
              "      <td>6</td>\n",
              "      <td>3446</td>\n",
              "      <td>4</td>\n",
              "      <td>35</td>\n",
              "      <td>878</td>\n",
              "      <td>200</td>\n",
              "      <td>1</td>\n",
              "      <td>7</td>\n",
              "      <td>1</td>\n",
              "      <td>2009</td>\n",
              "      <td>3</td>\n",
              "      <td>1</td>\n",
              "      <td>0</td>\n",
              "      <td>7</td>\n",
              "      <td>4</td>\n",
              "      <td>3</td>\n",
              "      <td>1</td>\n",
              "      <td>6</td>\n",
              "      <td>2</td>\n",
              "      <td>2</td>\n",
              "      <td>2</td>\n",
              "      <td>6</td>\n",
              "      <td>4</td>\n",
              "      <td>1</td>\n",
              "      <td>1</td>\n",
              "      <td>1</td>\n",
              "      <td>0</td>\n",
              "    </tr>\n",
              "    <tr>\n",
              "      <th>3</th>\n",
              "      <td>500.0</td>\n",
              "      <td>629</td>\n",
              "      <td>1737</td>\n",
              "      <td>156</td>\n",
              "      <td>34.697489</td>\n",
              "      <td>-9.110604e+00</td>\n",
              "      <td>6</td>\n",
              "      <td>4403</td>\n",
              "      <td>10</td>\n",
              "      <td>91</td>\n",
              "      <td>988</td>\n",
              "      <td>350</td>\n",
              "      <td>1</td>\n",
              "      <td>7</td>\n",
              "      <td>1</td>\n",
              "      <td>1974</td>\n",
              "      <td>3</td>\n",
              "      <td>1</td>\n",
              "      <td>0</td>\n",
              "      <td>10</td>\n",
              "      <td>4</td>\n",
              "      <td>3</td>\n",
              "      <td>1</td>\n",
              "      <td>6</td>\n",
              "      <td>2</td>\n",
              "      <td>1</td>\n",
              "      <td>1</td>\n",
              "      <td>6</td>\n",
              "      <td>4</td>\n",
              "      <td>1</td>\n",
              "      <td>1</td>\n",
              "      <td>1</td>\n",
              "      <td>1</td>\n",
              "    </tr>\n",
              "    <tr>\n",
              "      <th>4</th>\n",
              "      <td>0.0</td>\n",
              "      <td>137</td>\n",
              "      <td>0</td>\n",
              "      <td>156</td>\n",
              "      <td>0.000000</td>\n",
              "      <td>-2.000000e-08</td>\n",
              "      <td>4</td>\n",
              "      <td>3944</td>\n",
              "      <td>16</td>\n",
              "      <td>5</td>\n",
              "      <td>1371</td>\n",
              "      <td>0</td>\n",
              "      <td>1</td>\n",
              "      <td>8</td>\n",
              "      <td>0</td>\n",
              "      <td>0</td>\n",
              "      <td>14</td>\n",
              "      <td>11</td>\n",
              "      <td>1</td>\n",
              "      <td>11</td>\n",
              "      <td>4</td>\n",
              "      <td>5</td>\n",
              "      <td>3</td>\n",
              "      <td>6</td>\n",
              "      <td>2</td>\n",
              "      <td>2</td>\n",
              "      <td>2</td>\n",
              "      <td>7</td>\n",
              "      <td>5</td>\n",
              "      <td>0</td>\n",
              "      <td>5</td>\n",
              "      <td>4</td>\n",
              "      <td>0</td>\n",
              "    </tr>\n",
              "  </tbody>\n",
              "</table>\n",
              "</div>"
            ],
            "text/plain": [
              "   amount_tsh  funder  ...  waterpoint_type_group  status_group\n",
              "0         0.0     615  ...                      4             0\n",
              "1        20.0     175  ...                      1             0\n",
              "2       200.0     388  ...                      1             0\n",
              "3       500.0     629  ...                      1             1\n",
              "4         0.0     137  ...                      4             0\n",
              "\n",
              "[5 rows x 33 columns]"
            ]
          },
          "metadata": {
            "tags": []
          },
          "execution_count": 6
        }
      ]
    },
    {
      "cell_type": "markdown",
      "metadata": {
        "id": "sIv7XAaKvqmn"
      },
      "source": [
        "## Normalize data\n",
        "Next step is to \"normalize\" our data. Our normalization would mean to convert all of the values to be between 0 and 1. This will ease the model's work."
      ]
    },
    {
      "cell_type": "code",
      "metadata": {
        "id": "CIq0NjFsv0x8"
      },
      "source": [
        "def normalize(x):\n",
        "  # min-max normalization to 0-1 range\n",
        "  x_min = x.min()\n",
        "  x_max = x.max()\n",
        "  return (x - x_min) / (x_max - x_min)"
      ],
      "execution_count": null,
      "outputs": []
    },
    {
      "cell_type": "code",
      "metadata": {
        "colab": {
          "base_uri": "https://localhost:8080/",
          "height": 224
        },
        "id": "D992wfrTwQx4",
        "outputId": "5a510b09-9d4c-47fe-da28-53887bf7f682"
      },
      "source": [
        "train_cols = cat_cols + num_cols\n",
        "\n",
        "for col in train_cols:\n",
        "  whole_set[col] = normalize(whole_set[col])\n",
        "\n",
        "whole_set.head()"
      ],
      "execution_count": null,
      "outputs": [
        {
          "output_type": "execute_result",
          "data": {
            "text/html": [
              "<div>\n",
              "<style scoped>\n",
              "    .dataframe tbody tr th:only-of-type {\n",
              "        vertical-align: middle;\n",
              "    }\n",
              "\n",
              "    .dataframe tbody tr th {\n",
              "        vertical-align: top;\n",
              "    }\n",
              "\n",
              "    .dataframe thead th {\n",
              "        text-align: right;\n",
              "    }\n",
              "</style>\n",
              "<table border=\"1\" class=\"dataframe\">\n",
              "  <thead>\n",
              "    <tr style=\"text-align: right;\">\n",
              "      <th></th>\n",
              "      <th>amount_tsh</th>\n",
              "      <th>funder</th>\n",
              "      <th>gps_height</th>\n",
              "      <th>installer</th>\n",
              "      <th>longitude</th>\n",
              "      <th>latitude</th>\n",
              "      <th>basin</th>\n",
              "      <th>subvillage</th>\n",
              "      <th>region_code</th>\n",
              "      <th>lga</th>\n",
              "      <th>ward</th>\n",
              "      <th>population</th>\n",
              "      <th>public_meeting</th>\n",
              "      <th>scheme_management</th>\n",
              "      <th>permit</th>\n",
              "      <th>construction_year</th>\n",
              "      <th>extraction_type</th>\n",
              "      <th>extraction_type_group</th>\n",
              "      <th>extraction_type_class</th>\n",
              "      <th>management</th>\n",
              "      <th>management_group</th>\n",
              "      <th>payment</th>\n",
              "      <th>payment_type</th>\n",
              "      <th>water_quality</th>\n",
              "      <th>quality_group</th>\n",
              "      <th>quantity</th>\n",
              "      <th>quantity_group</th>\n",
              "      <th>source</th>\n",
              "      <th>source_type</th>\n",
              "      <th>source_class</th>\n",
              "      <th>waterpoint_type</th>\n",
              "      <th>waterpoint_type_group</th>\n",
              "      <th>status_group</th>\n",
              "    </tr>\n",
              "  </thead>\n",
              "  <tbody>\n",
              "    <tr>\n",
              "      <th>0</th>\n",
              "      <td>0.000000</td>\n",
              "      <td>0.886331</td>\n",
              "      <td>0.020163</td>\n",
              "      <td>0.830769</td>\n",
              "      <td>0.815861</td>\n",
              "      <td>0.691655</td>\n",
              "      <td>0.500</td>\n",
              "      <td>0.688629</td>\n",
              "      <td>0.64</td>\n",
              "      <td>0.837398</td>\n",
              "      <td>0.444764</td>\n",
              "      <td>0.000000</td>\n",
              "      <td>0.5</td>\n",
              "      <td>0.272727</td>\n",
              "      <td>1.0</td>\n",
              "      <td>0.000000</td>\n",
              "      <td>0.5625</td>\n",
              "      <td>0.500000</td>\n",
              "      <td>0.500000</td>\n",
              "      <td>0.272727</td>\n",
              "      <td>0.5</td>\n",
              "      <td>0.000000</td>\n",
              "      <td>0.333333</td>\n",
              "      <td>0.857143</td>\n",
              "      <td>0.4</td>\n",
              "      <td>0.75</td>\n",
              "      <td>0.75</td>\n",
              "      <td>0.555556</td>\n",
              "      <td>0.500000</td>\n",
              "      <td>0.5</td>\n",
              "      <td>1.0</td>\n",
              "      <td>1.00</td>\n",
              "      <td>0</td>\n",
              "    </tr>\n",
              "    <tr>\n",
              "      <th>1</th>\n",
              "      <td>0.000167</td>\n",
              "      <td>0.253237</td>\n",
              "      <td>0.363636</td>\n",
              "      <td>0.201282</td>\n",
              "      <td>0.913706</td>\n",
              "      <td>0.699518</td>\n",
              "      <td>0.625</td>\n",
              "      <td>0.512044</td>\n",
              "      <td>0.04</td>\n",
              "      <td>0.000000</td>\n",
              "      <td>0.757192</td>\n",
              "      <td>0.009804</td>\n",
              "      <td>1.0</td>\n",
              "      <td>0.636364</td>\n",
              "      <td>1.0</td>\n",
              "      <td>0.998013</td>\n",
              "      <td>0.1875</td>\n",
              "      <td>0.083333</td>\n",
              "      <td>0.000000</td>\n",
              "      <td>0.636364</td>\n",
              "      <td>1.0</td>\n",
              "      <td>0.666667</td>\n",
              "      <td>0.833333</td>\n",
              "      <td>0.857143</td>\n",
              "      <td>0.4</td>\n",
              "      <td>0.50</td>\n",
              "      <td>0.50</td>\n",
              "      <td>0.888889</td>\n",
              "      <td>1.000000</td>\n",
              "      <td>0.0</td>\n",
              "      <td>0.2</td>\n",
              "      <td>0.25</td>\n",
              "      <td>0</td>\n",
              "    </tr>\n",
              "    <tr>\n",
              "      <th>2</th>\n",
              "      <td>0.001667</td>\n",
              "      <td>0.559712</td>\n",
              "      <td>0.112840</td>\n",
              "      <td>0.150000</td>\n",
              "      <td>0.915751</td>\n",
              "      <td>0.327364</td>\n",
              "      <td>0.750</td>\n",
              "      <td>0.610521</td>\n",
              "      <td>0.16</td>\n",
              "      <td>0.284553</td>\n",
              "      <td>0.505178</td>\n",
              "      <td>0.013072</td>\n",
              "      <td>1.0</td>\n",
              "      <td>0.727273</td>\n",
              "      <td>1.0</td>\n",
              "      <td>0.998013</td>\n",
              "      <td>0.1875</td>\n",
              "      <td>0.083333</td>\n",
              "      <td>0.000000</td>\n",
              "      <td>0.636364</td>\n",
              "      <td>1.0</td>\n",
              "      <td>0.500000</td>\n",
              "      <td>0.166667</td>\n",
              "      <td>0.857143</td>\n",
              "      <td>0.4</td>\n",
              "      <td>0.50</td>\n",
              "      <td>0.50</td>\n",
              "      <td>0.666667</td>\n",
              "      <td>0.666667</td>\n",
              "      <td>0.5</td>\n",
              "      <td>0.2</td>\n",
              "      <td>0.25</td>\n",
              "      <td>0</td>\n",
              "    </tr>\n",
              "    <tr>\n",
              "      <th>3</th>\n",
              "      <td>0.004167</td>\n",
              "      <td>0.906475</td>\n",
              "      <td>0.634595</td>\n",
              "      <td>0.201282</td>\n",
              "      <td>0.860937</td>\n",
              "      <td>0.217936</td>\n",
              "      <td>0.750</td>\n",
              "      <td>0.780021</td>\n",
              "      <td>0.40</td>\n",
              "      <td>0.739837</td>\n",
              "      <td>0.568470</td>\n",
              "      <td>0.022876</td>\n",
              "      <td>1.0</td>\n",
              "      <td>0.727273</td>\n",
              "      <td>1.0</td>\n",
              "      <td>0.980626</td>\n",
              "      <td>0.1875</td>\n",
              "      <td>0.083333</td>\n",
              "      <td>0.000000</td>\n",
              "      <td>0.909091</td>\n",
              "      <td>1.0</td>\n",
              "      <td>0.500000</td>\n",
              "      <td>0.166667</td>\n",
              "      <td>0.857143</td>\n",
              "      <td>0.4</td>\n",
              "      <td>0.25</td>\n",
              "      <td>0.25</td>\n",
              "      <td>0.666667</td>\n",
              "      <td>0.666667</td>\n",
              "      <td>0.5</td>\n",
              "      <td>0.2</td>\n",
              "      <td>0.25</td>\n",
              "      <td>1</td>\n",
              "    </tr>\n",
              "    <tr>\n",
              "      <th>4</th>\n",
              "      <td>0.000000</td>\n",
              "      <td>0.198561</td>\n",
              "      <td>0.020163</td>\n",
              "      <td>0.201282</td>\n",
              "      <td>0.000000</td>\n",
              "      <td>1.000000</td>\n",
              "      <td>0.500</td>\n",
              "      <td>0.698725</td>\n",
              "      <td>0.64</td>\n",
              "      <td>0.040650</td>\n",
              "      <td>0.788838</td>\n",
              "      <td>0.000000</td>\n",
              "      <td>1.0</td>\n",
              "      <td>0.818182</td>\n",
              "      <td>0.5</td>\n",
              "      <td>0.000000</td>\n",
              "      <td>0.8750</td>\n",
              "      <td>0.916667</td>\n",
              "      <td>0.166667</td>\n",
              "      <td>1.000000</td>\n",
              "      <td>1.0</td>\n",
              "      <td>0.833333</td>\n",
              "      <td>0.500000</td>\n",
              "      <td>0.857143</td>\n",
              "      <td>0.4</td>\n",
              "      <td>0.50</td>\n",
              "      <td>0.50</td>\n",
              "      <td>0.777778</td>\n",
              "      <td>0.833333</td>\n",
              "      <td>0.0</td>\n",
              "      <td>1.0</td>\n",
              "      <td>1.00</td>\n",
              "      <td>0</td>\n",
              "    </tr>\n",
              "  </tbody>\n",
              "</table>\n",
              "</div>"
            ],
            "text/plain": [
              "   amount_tsh    funder  ...  waterpoint_type_group  status_group\n",
              "0    0.000000  0.886331  ...                   1.00             0\n",
              "1    0.000167  0.253237  ...                   0.25             0\n",
              "2    0.001667  0.559712  ...                   0.25             0\n",
              "3    0.004167  0.906475  ...                   0.25             1\n",
              "4    0.000000  0.198561  ...                   1.00             0\n",
              "\n",
              "[5 rows x 33 columns]"
            ]
          },
          "metadata": {
            "tags": []
          },
          "execution_count": 8
        }
      ]
    },
    {
      "cell_type": "markdown",
      "metadata": {
        "id": "Mx0rCcP72NB2"
      },
      "source": [
        "## Fill empty values with average\n",
        "We will fill all of the numerical values that have 0s with the mean of the set."
      ]
    },
    {
      "cell_type": "code",
      "metadata": {
        "colab": {
          "base_uri": "https://localhost:8080/",
          "height": 224
        },
        "id": "y5b0fSRc2Lxk",
        "outputId": "ded73208-cc1c-4562-ac7e-85fc57e4a235"
      },
      "source": [
        "for col in num_cols:\n",
        "  whole_set[col] = whole_set[col].replace(0, whole_set[col].mean())\n",
        "  \n",
        "whole_set.head()"
      ],
      "execution_count": null,
      "outputs": [
        {
          "output_type": "execute_result",
          "data": {
            "text/html": [
              "<div>\n",
              "<style scoped>\n",
              "    .dataframe tbody tr th:only-of-type {\n",
              "        vertical-align: middle;\n",
              "    }\n",
              "\n",
              "    .dataframe tbody tr th {\n",
              "        vertical-align: top;\n",
              "    }\n",
              "\n",
              "    .dataframe thead th {\n",
              "        text-align: right;\n",
              "    }\n",
              "</style>\n",
              "<table border=\"1\" class=\"dataframe\">\n",
              "  <thead>\n",
              "    <tr style=\"text-align: right;\">\n",
              "      <th></th>\n",
              "      <th>amount_tsh</th>\n",
              "      <th>funder</th>\n",
              "      <th>gps_height</th>\n",
              "      <th>installer</th>\n",
              "      <th>longitude</th>\n",
              "      <th>latitude</th>\n",
              "      <th>basin</th>\n",
              "      <th>subvillage</th>\n",
              "      <th>region_code</th>\n",
              "      <th>lga</th>\n",
              "      <th>ward</th>\n",
              "      <th>population</th>\n",
              "      <th>public_meeting</th>\n",
              "      <th>scheme_management</th>\n",
              "      <th>permit</th>\n",
              "      <th>construction_year</th>\n",
              "      <th>extraction_type</th>\n",
              "      <th>extraction_type_group</th>\n",
              "      <th>extraction_type_class</th>\n",
              "      <th>management</th>\n",
              "      <th>management_group</th>\n",
              "      <th>payment</th>\n",
              "      <th>payment_type</th>\n",
              "      <th>water_quality</th>\n",
              "      <th>quality_group</th>\n",
              "      <th>quantity</th>\n",
              "      <th>quantity_group</th>\n",
              "      <th>source</th>\n",
              "      <th>source_type</th>\n",
              "      <th>source_class</th>\n",
              "      <th>waterpoint_type</th>\n",
              "      <th>waterpoint_type_group</th>\n",
              "      <th>status_group</th>\n",
              "    </tr>\n",
              "  </thead>\n",
              "  <tbody>\n",
              "    <tr>\n",
              "      <th>0</th>\n",
              "      <td>0.002620</td>\n",
              "      <td>0.886331</td>\n",
              "      <td>0.020163</td>\n",
              "      <td>0.830769</td>\n",
              "      <td>0.815861</td>\n",
              "      <td>0.691655</td>\n",
              "      <td>0.500</td>\n",
              "      <td>0.688629</td>\n",
              "      <td>0.64</td>\n",
              "      <td>0.837398</td>\n",
              "      <td>0.444764</td>\n",
              "      <td>0.011756</td>\n",
              "      <td>0.5</td>\n",
              "      <td>0.272727</td>\n",
              "      <td>1.0</td>\n",
              "      <td>0.629881</td>\n",
              "      <td>0.5625</td>\n",
              "      <td>0.500000</td>\n",
              "      <td>0.500000</td>\n",
              "      <td>0.272727</td>\n",
              "      <td>0.5</td>\n",
              "      <td>0.000000</td>\n",
              "      <td>0.333333</td>\n",
              "      <td>0.857143</td>\n",
              "      <td>0.4</td>\n",
              "      <td>0.75</td>\n",
              "      <td>0.75</td>\n",
              "      <td>0.555556</td>\n",
              "      <td>0.500000</td>\n",
              "      <td>0.5</td>\n",
              "      <td>1.0</td>\n",
              "      <td>1.00</td>\n",
              "      <td>0</td>\n",
              "    </tr>\n",
              "    <tr>\n",
              "      <th>1</th>\n",
              "      <td>0.000167</td>\n",
              "      <td>0.253237</td>\n",
              "      <td>0.363636</td>\n",
              "      <td>0.201282</td>\n",
              "      <td>0.913706</td>\n",
              "      <td>0.699518</td>\n",
              "      <td>0.625</td>\n",
              "      <td>0.512044</td>\n",
              "      <td>0.04</td>\n",
              "      <td>0.000000</td>\n",
              "      <td>0.757192</td>\n",
              "      <td>0.009804</td>\n",
              "      <td>1.0</td>\n",
              "      <td>0.636364</td>\n",
              "      <td>1.0</td>\n",
              "      <td>0.998013</td>\n",
              "      <td>0.1875</td>\n",
              "      <td>0.083333</td>\n",
              "      <td>0.000000</td>\n",
              "      <td>0.636364</td>\n",
              "      <td>1.0</td>\n",
              "      <td>0.666667</td>\n",
              "      <td>0.833333</td>\n",
              "      <td>0.857143</td>\n",
              "      <td>0.4</td>\n",
              "      <td>0.50</td>\n",
              "      <td>0.50</td>\n",
              "      <td>0.888889</td>\n",
              "      <td>1.000000</td>\n",
              "      <td>0.0</td>\n",
              "      <td>0.2</td>\n",
              "      <td>0.25</td>\n",
              "      <td>0</td>\n",
              "    </tr>\n",
              "    <tr>\n",
              "      <th>2</th>\n",
              "      <td>0.001667</td>\n",
              "      <td>0.559712</td>\n",
              "      <td>0.112840</td>\n",
              "      <td>0.150000</td>\n",
              "      <td>0.915751</td>\n",
              "      <td>0.327364</td>\n",
              "      <td>0.750</td>\n",
              "      <td>0.610521</td>\n",
              "      <td>0.16</td>\n",
              "      <td>0.284553</td>\n",
              "      <td>0.505178</td>\n",
              "      <td>0.013072</td>\n",
              "      <td>1.0</td>\n",
              "      <td>0.727273</td>\n",
              "      <td>1.0</td>\n",
              "      <td>0.998013</td>\n",
              "      <td>0.1875</td>\n",
              "      <td>0.083333</td>\n",
              "      <td>0.000000</td>\n",
              "      <td>0.636364</td>\n",
              "      <td>1.0</td>\n",
              "      <td>0.500000</td>\n",
              "      <td>0.166667</td>\n",
              "      <td>0.857143</td>\n",
              "      <td>0.4</td>\n",
              "      <td>0.50</td>\n",
              "      <td>0.50</td>\n",
              "      <td>0.666667</td>\n",
              "      <td>0.666667</td>\n",
              "      <td>0.5</td>\n",
              "      <td>0.2</td>\n",
              "      <td>0.25</td>\n",
              "      <td>0</td>\n",
              "    </tr>\n",
              "    <tr>\n",
              "      <th>3</th>\n",
              "      <td>0.004167</td>\n",
              "      <td>0.906475</td>\n",
              "      <td>0.634595</td>\n",
              "      <td>0.201282</td>\n",
              "      <td>0.860937</td>\n",
              "      <td>0.217936</td>\n",
              "      <td>0.750</td>\n",
              "      <td>0.780021</td>\n",
              "      <td>0.40</td>\n",
              "      <td>0.739837</td>\n",
              "      <td>0.568470</td>\n",
              "      <td>0.022876</td>\n",
              "      <td>1.0</td>\n",
              "      <td>0.727273</td>\n",
              "      <td>1.0</td>\n",
              "      <td>0.980626</td>\n",
              "      <td>0.1875</td>\n",
              "      <td>0.083333</td>\n",
              "      <td>0.000000</td>\n",
              "      <td>0.909091</td>\n",
              "      <td>1.0</td>\n",
              "      <td>0.500000</td>\n",
              "      <td>0.166667</td>\n",
              "      <td>0.857143</td>\n",
              "      <td>0.4</td>\n",
              "      <td>0.25</td>\n",
              "      <td>0.25</td>\n",
              "      <td>0.666667</td>\n",
              "      <td>0.666667</td>\n",
              "      <td>0.5</td>\n",
              "      <td>0.2</td>\n",
              "      <td>0.25</td>\n",
              "      <td>1</td>\n",
              "    </tr>\n",
              "    <tr>\n",
              "      <th>4</th>\n",
              "      <td>0.002620</td>\n",
              "      <td>0.198561</td>\n",
              "      <td>0.020163</td>\n",
              "      <td>0.201282</td>\n",
              "      <td>0.817945</td>\n",
              "      <td>1.000000</td>\n",
              "      <td>0.500</td>\n",
              "      <td>0.698725</td>\n",
              "      <td>0.64</td>\n",
              "      <td>0.040650</td>\n",
              "      <td>0.788838</td>\n",
              "      <td>0.011756</td>\n",
              "      <td>1.0</td>\n",
              "      <td>0.818182</td>\n",
              "      <td>0.5</td>\n",
              "      <td>0.629881</td>\n",
              "      <td>0.8750</td>\n",
              "      <td>0.916667</td>\n",
              "      <td>0.166667</td>\n",
              "      <td>1.000000</td>\n",
              "      <td>1.0</td>\n",
              "      <td>0.833333</td>\n",
              "      <td>0.500000</td>\n",
              "      <td>0.857143</td>\n",
              "      <td>0.4</td>\n",
              "      <td>0.50</td>\n",
              "      <td>0.50</td>\n",
              "      <td>0.777778</td>\n",
              "      <td>0.833333</td>\n",
              "      <td>0.0</td>\n",
              "      <td>1.0</td>\n",
              "      <td>1.00</td>\n",
              "      <td>0</td>\n",
              "    </tr>\n",
              "  </tbody>\n",
              "</table>\n",
              "</div>"
            ],
            "text/plain": [
              "   amount_tsh    funder  ...  waterpoint_type_group  status_group\n",
              "0    0.002620  0.886331  ...                   1.00             0\n",
              "1    0.000167  0.253237  ...                   0.25             0\n",
              "2    0.001667  0.559712  ...                   0.25             0\n",
              "3    0.004167  0.906475  ...                   0.25             1\n",
              "4    0.002620  0.198561  ...                   1.00             0\n",
              "\n",
              "[5 rows x 33 columns]"
            ]
          },
          "metadata": {
            "tags": []
          },
          "execution_count": 9
        }
      ]
    },
    {
      "cell_type": "markdown",
      "metadata": {
        "id": "Htag4NXEzAuS"
      },
      "source": [
        "#Prepare data\n",
        "Our data has been processed but now we need to prepare it in the appropriate formats in order to work for our model."
      ]
    },
    {
      "cell_type": "markdown",
      "metadata": {
        "id": "2gurQ6CY5f9L"
      },
      "source": [
        "## Split data into needed chunks for Training, Validation and Testing.\n",
        "\n",
        "We'll split all we got into three data sets. First one is to train the model. Second one will be to validate our accuracy. This data set will be extracted from the training set. Third one will be the testing set to which we'll challenge our model"
      ]
    },
    {
      "cell_type": "code",
      "metadata": {
        "colab": {
          "base_uri": "https://localhost:8080/"
        },
        "id": "JxN9SVNt5mGM",
        "outputId": "bec07ad6-bd1d-43eb-a5fa-1361bf609cfd"
      },
      "source": [
        "print(train_set.shape)\n",
        "print(test_set.shape)\n",
        "print(whole_set.shape)"
      ],
      "execution_count": null,
      "outputs": [
        {
          "output_type": "stream",
          "text": [
            "(6716, 39)\n",
            "(2500, 38)\n",
            "(9216, 33)\n"
          ],
          "name": "stdout"
        }
      ]
    },
    {
      "cell_type": "code",
      "metadata": {
        "colab": {
          "base_uri": "https://localhost:8080/"
        },
        "id": "GuOk_wBx6EXx",
        "outputId": "3eb74f5f-b0f7-43f6-d318-ea39293b2fcd"
      },
      "source": [
        "train_set_length = int(train_set.shape[0] * 0.8)\n",
        "validation_set_length = int(train_set.shape[0] * 0.2)\n",
        "\n",
        "# Add remaining value of precision conversion to the train set\n",
        "remaining_length = train_set.shape[0] - (train_set_length + validation_set_length)\n",
        "train_set_length += remaining_length\n",
        "\n",
        "test_set_length = test_set.shape[0]\n",
        "\n",
        "print(train_set_length)\n",
        "print(validation_set_length)\n",
        "print(test_set_length)"
      ],
      "execution_count": null,
      "outputs": [
        {
          "output_type": "stream",
          "text": [
            "5373\n",
            "1343\n",
            "2500\n"
          ],
          "name": "stdout"
        }
      ]
    },
    {
      "cell_type": "code",
      "metadata": {
        "colab": {
          "base_uri": "https://localhost:8080/"
        },
        "id": "_YsMjlg-752y",
        "outputId": "ac637c02-3e1f-40ef-aa2a-ec1fcccfd1bf"
      },
      "source": [
        "splitted_train_set = whole_set[:train_set_length]\n",
        "splitted_validation_set = whole_set[train_set_length:train_set_length + validation_set_length]\n",
        "splitted_test_set = whole_set.tail(test_set_length)\n",
        "\n",
        "print(splitted_train_set.shape)\n",
        "print(splitted_validation_set.shape)\n",
        "print(splitted_test_set.shape)"
      ],
      "execution_count": null,
      "outputs": [
        {
          "output_type": "stream",
          "text": [
            "(5373, 33)\n",
            "(1343, 33)\n",
            "(2500, 33)\n"
          ],
          "name": "stdout"
        }
      ]
    },
    {
      "cell_type": "markdown",
      "metadata": {
        "id": "h7z63Trp83Yb"
      },
      "source": [
        "## Create tensors to use pytorch\n",
        "\n",
        "We need the data sets in tensor objects in order to fit in our model."
      ]
    },
    {
      "cell_type": "code",
      "metadata": {
        "id": "q4A7vq3t94nu"
      },
      "source": [
        "import torch\n",
        "import torch.nn as nn\n",
        "\n",
        "tensor_train_set_features = torch.tensor(splitted_train_set[num_cols + cat_cols].values, dtype=torch.float)\n",
        "tensor_train_set_labels = torch.tensor(splitted_train_set[out_cols].values, dtype=torch.float)\n",
        "tensor_validation_set_features = torch.tensor(splitted_validation_set[num_cols + cat_cols].values, dtype=torch.float)\n",
        "tensor_validation_set_labels = torch.tensor(splitted_validation_set[out_cols].values, dtype=torch.float)\n",
        "tensor_test_set_features = torch.tensor(splitted_test_set[num_cols + cat_cols].values, dtype=torch.float)"
      ],
      "execution_count": null,
      "outputs": []
    },
    {
      "cell_type": "markdown",
      "metadata": {
        "id": "8P0ytYye--0j"
      },
      "source": [
        "# Create Deep learning Model"
      ]
    },
    {
      "cell_type": "markdown",
      "metadata": {
        "id": "X8LR8SOhA_rl"
      },
      "source": [
        "## Define our Network Model"
      ]
    },
    {
      "cell_type": "markdown",
      "metadata": {
        "id": "0ZJ6mLHwUP6W"
      },
      "source": [
        "We'll be using two layers and we'll turn the output between 0 and 1 using sigmoid function. This will tell us how likely is our pipe to need repair. For example, if the output is 0.7 that means that our model is 70% confident that this pipe needs a repair."
      ]
    },
    {
      "cell_type": "code",
      "metadata": {
        "id": "pvhBwDEJ_BMY"
      },
      "source": [
        "class Net(nn.Module):\n",
        "  def __init__(self, input_length, output_length, neurons):\n",
        "    super().__init__()\n",
        "    self.layer_1 = nn.Linear(input_length, neurons)\n",
        "    self.layer_2 = nn.Linear(neurons, neurons)\n",
        "    self.output = nn.Linear(neurons, output_length)\n",
        "    self.sigmoid = nn.Sigmoid()\n",
        "\n",
        "  def forward(self, input_set):\n",
        "    x = self.layer_1(input_set)\n",
        "    x = self.layer_2(x)\n",
        "    x = self.output(x)\n",
        "    x = self.sigmoid(x)\n",
        "    return x"
      ],
      "execution_count": null,
      "outputs": []
    },
    {
      "cell_type": "markdown",
      "metadata": {
        "id": "rllJhrqXBGJn"
      },
      "source": [
        "Selecting loss function and optimizer. For the loss function, we use Binary Cross-Entropy (BCE), which is known as the binary logarithmic loss function. This is commonly used for logistic regression tasks since we are predicting a binary value as output."
      ]
    },
    {
      "cell_type": "code",
      "metadata": {
        "id": "JibqBUsBBFh6"
      },
      "source": [
        "loss_func = nn.BCELoss()"
      ],
      "execution_count": null,
      "outputs": []
    },
    {
      "cell_type": "markdown",
      "metadata": {
        "id": "3LNbdAMSIiar"
      },
      "source": [
        "## Define training function\n",
        "This function will do all of the necessary work to train our model. We're using the standard Adam optimizer."
      ]
    },
    {
      "cell_type": "code",
      "metadata": {
        "id": "Ywet_-uzIwS6"
      },
      "source": [
        "def train(net, train_data, train_labels, num_epochs, learning_rate, weight_decay, batch_size):\n",
        "  loss_list = []\n",
        "  train_tensor = torch.utils.data.TensorDataset(torch.Tensor(train_data), torch.Tensor(train_labels))\n",
        "  train_loader = torch.utils.data.DataLoader(train_tensor, batch_size=batch_size, shuffle=True)\n",
        "\n",
        "  optimizer = torch.optim.Adam(net.parameters(), lr=learning_rate, weight_decay=weight_decay)\n",
        "\n",
        "  for epoch in range(num_epochs):\n",
        "    loss_items = []\n",
        "    for train_data, label_data in train_loader:\n",
        "      optimizer.zero_grad()\n",
        "      output = net(train_data)\n",
        "      loss = loss_func(output, label_data)\n",
        "      loss.backward()\n",
        "      optimizer.step()\n",
        "      loss_item = loss.item()\n",
        "      loss_items.append(loss_item)\n",
        "\n",
        "    if(epoch % 10 == 0):\n",
        "      print('epoch {}, loss{}'.format(epoch, loss_items))\n",
        "\n",
        "    loss_list.append(loss_items)\n",
        "  return loss_list"
      ],
      "execution_count": null,
      "outputs": []
    },
    {
      "cell_type": "markdown",
      "metadata": {
        "id": "lbz8lqP0K6jZ"
      },
      "source": [
        "### Create network model"
      ]
    },
    {
      "cell_type": "code",
      "metadata": {
        "id": "qMzPvBMoLC3I"
      },
      "source": [
        "net = Net(input_length=tensor_train_set_features.shape[1],\n",
        "          output_length = 1, \n",
        "          neurons = 64)"
      ],
      "execution_count": null,
      "outputs": []
    },
    {
      "cell_type": "markdown",
      "metadata": {
        "id": "GnGyIxawK8ga"
      },
      "source": [
        "## Train the model\n",
        "We'll train the created model using our predefined function."
      ]
    },
    {
      "cell_type": "code",
      "metadata": {
        "colab": {
          "base_uri": "https://localhost:8080/"
        },
        "id": "6eYQLpUoxiML",
        "outputId": "1ab8cfed-8c9d-4a37-ab2a-3b34a2b4d32b"
      },
      "source": [
        "num_epochs = 180\n",
        "\n",
        "loss_list = train(net = net, \n",
        "                  train_data = tensor_train_set_features,\n",
        "                  train_labels = tensor_train_set_labels,\n",
        "                  num_epochs = num_epochs,\n",
        "                  learning_rate = 0.0001,\n",
        "                  weight_decay = 0,\n",
        "                  batch_size = 3000)"
      ],
      "execution_count": null,
      "outputs": [
        {
          "output_type": "stream",
          "text": [
            "epoch 0, loss[0.707190752029419, 0.7085080742835999]\n",
            "epoch 10, loss[0.6933349370956421, 0.6902385354042053]\n",
            "epoch 20, loss[0.6891084909439087, 0.6877664923667908]\n",
            "epoch 30, loss[0.6858841776847839, 0.6868568062782288]\n",
            "epoch 40, loss[0.6843290328979492, 0.6834620833396912]\n",
            "epoch 50, loss[0.681273341178894, 0.6815304160118103]\n",
            "epoch 60, loss[0.6787890195846558, 0.6783320903778076]\n",
            "epoch 70, loss[0.6753145456314087, 0.6758344173431396]\n",
            "epoch 80, loss[0.6728010773658752, 0.6715788841247559]\n",
            "epoch 90, loss[0.6703540682792664, 0.6667683124542236]\n",
            "epoch 100, loss[0.6626851558685303, 0.668294370174408]\n",
            "epoch 110, loss[0.6600751280784607, 0.6633554100990295]\n",
            "epoch 120, loss[0.6599143743515015, 0.6555271148681641]\n",
            "epoch 130, loss[0.6572100520133972, 0.6514119505882263]\n",
            "epoch 140, loss[0.65547776222229, 0.6468012928962708]\n",
            "epoch 150, loss[0.651934802532196, 0.6452037692070007]\n",
            "epoch 160, loss[0.6465805768966675, 0.6467110514640808]\n",
            "epoch 170, loss[0.6444458961486816, 0.6448232531547546]\n"
          ],
          "name": "stdout"
        }
      ]
    },
    {
      "cell_type": "markdown",
      "metadata": {
        "id": "E2iVuopcBQTM"
      },
      "source": [
        "### Loss visualization\n",
        "\n",
        "Visualizing loss function helps us determine whether we need more/less epochs to train and helps us spot if we're overfitting our model."
      ]
    },
    {
      "cell_type": "code",
      "metadata": {
        "colab": {
          "base_uri": "https://localhost:8080/",
          "height": 279
        },
        "id": "ashgR4vkBPvV",
        "outputId": "af03c70a-eb01-42c6-a519-0e5507277219"
      },
      "source": [
        "import matplotlib.pyplot as plt\n",
        "\n",
        "plt.plot(range(1, num_epochs + 1), loss_list)\n",
        "plt.xlabel('epoch')\n",
        "plt.ylabel('loss')\n",
        "plt.show()"
      ],
      "execution_count": null,
      "outputs": [
        {
          "output_type": "display_data",
          "data": {
            "image/png": "[encoded data removed]",
            "text/plain": [
              "<Figure size 432x288 with 1 Axes>"
            ]
          },
          "metadata": {
            "tags": [],
            "needs_background": "light"
          }
        }
      ]
    },
    {
      "cell_type": "markdown",
      "metadata": {
        "id": "LzIBXvWd-HeS"
      },
      "source": [
        "### Convert prediction to final result\n",
        "\n",
        "We'll use our validation set to determine how well our model did. However, right now our values are varying between 0 and 1 but we need them to be either 0 or 1. So we'll convert our values to be binary."
      ]
    },
    {
      "cell_type": "code",
      "metadata": {
        "colab": {
          "base_uri": "https://localhost:8080/"
        },
        "id": "KywUpm913nIP",
        "outputId": "02d7c34e-c5f6-4c54-94e5-6cc19f20ccd7"
      },
      "source": [
        "needs_repair_treshold = 0.5\n",
        "\n",
        "prediction = net(tensor_validation_set_features)\n",
        "prediction = (prediction>needs_repair_treshold).float()\n",
        "\n",
        "print(prediction)\n",
        "print(tensor_validation_set_labels)"
      ],
      "execution_count": null,
      "outputs": [
        {
          "output_type": "stream",
          "text": [
            "tensor([[0.],\n",
            "        [0.],\n",
            "        [0.],\n",
            "        ...,\n",
            "        [0.],\n",
            "        [1.],\n",
            "        [0.]])\n",
            "tensor([[0.],\n",
            "        [0.],\n",
            "        [1.],\n",
            "        ...,\n",
            "        [0.],\n",
            "        [1.],\n",
            "        [0.]])\n"
          ],
          "name": "stdout"
        }
      ]
    },
    {
      "cell_type": "markdown",
      "metadata": {
        "id": "XNyr73AkODEc"
      },
      "source": [
        "### Find model accuracy"
      ]
    },
    {
      "cell_type": "code",
      "metadata": {
        "colab": {
          "base_uri": "https://localhost:8080/"
        },
        "id": "CP2XR-2D-N5L",
        "outputId": "4a7cc6bb-06b2-4598-fafd-f46fb06a65d2"
      },
      "source": [
        "correct = 0\n",
        "total = 0\n",
        "\n",
        "for index, pred in enumerate(prediction):\n",
        "  if pred == tensor_validation_set_labels[index]:\n",
        "    correct += 1\n",
        "  total += 1\n",
        "\n",
        "print('Accuracy: ', round(correct / total, 3))"
      ],
      "execution_count": null,
      "outputs": [
        {
          "output_type": "stream",
          "text": [
            "Accuracy:  0.634\n"
          ],
          "name": "stdout"
        }
      ]
    },
    {
      "cell_type": "markdown",
      "metadata": {
        "id": "Dx9-WP0nPO7h"
      },
      "source": [
        "# Work on test data"
      ]
    },
    {
      "cell_type": "code",
      "metadata": {
        "colab": {
          "base_uri": "https://localhost:8080/",
          "height": 204
        },
        "id": "t3Wi3g8bPR55",
        "outputId": "aeddd76e-42cc-495e-a604-3496241b2d8f"
      },
      "source": [
        "test_prediction = net(tensor_test_set_features)\n",
        "test_prediction = (test_prediction > needs_repair_treshold).float()\n",
        "\n",
        "test_set_result = test_set\n",
        "test_set_result[out_cols] = test_prediction\n",
        "test_set_result = test_set_result[['id', out_cols[0]]]\n",
        "test_set_result.head()"
      ],
      "execution_count": null,
      "outputs": [
        {
          "output_type": "execute_result",
          "data": {
            "text/html": [
              "<div>\n",
              "<style scoped>\n",
              "    .dataframe tbody tr th:only-of-type {\n",
              "        vertical-align: middle;\n",
              "    }\n",
              "\n",
              "    .dataframe tbody tr th {\n",
              "        vertical-align: top;\n",
              "    }\n",
              "\n",
              "    .dataframe thead th {\n",
              "        text-align: right;\n",
              "    }\n",
              "</style>\n",
              "<table border=\"1\" class=\"dataframe\">\n",
              "  <thead>\n",
              "    <tr style=\"text-align: right;\">\n",
              "      <th></th>\n",
              "      <th>id</th>\n",
              "      <th>status_group</th>\n",
              "    </tr>\n",
              "  </thead>\n",
              "  <tbody>\n",
              "    <tr>\n",
              "      <th>0</th>\n",
              "      <td>51075</td>\n",
              "      <td>1.0</td>\n",
              "    </tr>\n",
              "    <tr>\n",
              "      <th>1</th>\n",
              "      <td>69689</td>\n",
              "      <td>0.0</td>\n",
              "    </tr>\n",
              "    <tr>\n",
              "      <th>2</th>\n",
              "      <td>39970</td>\n",
              "      <td>0.0</td>\n",
              "    </tr>\n",
              "    <tr>\n",
              "      <th>3</th>\n",
              "      <td>15021</td>\n",
              "      <td>0.0</td>\n",
              "    </tr>\n",
              "    <tr>\n",
              "      <th>4</th>\n",
              "      <td>15400</td>\n",
              "      <td>1.0</td>\n",
              "    </tr>\n",
              "  </tbody>\n",
              "</table>\n",
              "</div>"
            ],
            "text/plain": [
              "      id  status_group\n",
              "0  51075           1.0\n",
              "1  69689           0.0\n",
              "2  39970           0.0\n",
              "3  15021           0.0\n",
              "4  15400           1.0"
            ]
          },
          "metadata": {
            "tags": []
          },
          "execution_count": 48
        }
      ]
    },
    {
      "cell_type": "markdown",
      "metadata": {
        "id": "9RQkOO7f98jK"
      },
      "source": [
        "# Download CSV Result"
      ]
    },
    {
      "cell_type": "code",
      "metadata": {
        "colab": {
          "base_uri": "https://localhost:8080/",
          "height": 34
        },
        "id": "W6nmjZq290S5",
        "outputId": "5ac2e08f-ea60-4496-cee2-840bdadcacd8"
      },
      "source": [
        "from google.colab import files\n",
        " \n",
        "test_set_result.to_csv('result.csv')\n",
        "files.download('result.csv')"
      ],
      "execution_count": null,
      "outputs": [
        {
          "output_type": "display_data",
          "data": {
            "application/javascript": [
              "\n",
              "    async function download(id, filename, size) {\n",
              "      if (!google.colab.kernel.accessAllowed) {\n",
              "        return;\n",
              "      }\n",
              "      const div = document.createElement('div');\n",
              "      const label = document.createElement('label');\n",
              "      label.textContent = `Downloading \"${filename}\": `;\n",
              "      div.appendChild(label);\n",
              "      const progress = document.createElement('progress');\n",
              "      progress.max = size;\n",
              "      div.appendChild(progress);\n",
              "      document.body.appendChild(div);\n",
              "\n",
              "      const buffers = [];\n",
              "      let downloaded = 0;\n",
              "\n",
              "      const channel = await google.colab.kernel.comms.open(id);\n",
              "      // Send a message to notify the kernel that we're ready.\n",
              "      channel.send({})\n",
              "\n",
              "      for await (const message of channel.messages) {\n",
              "        // Send a message to notify the kernel that we're ready.\n",
              "        channel.send({})\n",
              "        if (message.buffers) {\n",
              "          for (const buffer of message.buffers) {\n",
              "            buffers.push(buffer);\n",
              "            downloaded += buffer.byteLength;\n",
              "            progress.value = downloaded;\n",
              "          }\n",
              "        }\n",
              "      }\n",
              "      const blob = new Blob(buffers, {type: 'application/binary'});\n",
              "      const a = document.createElement('a');\n",
              "      a.href = window.URL.createObjectURL(blob);\n",
              "      a.download = filename;\n",
              "      div.appendChild(a);\n",
              "      a.click();\n",
              "      div.remove();\n",
              "    }\n",
              "  "
            ],
            "text/plain": [
              "<IPython.core.display.Javascript object>"
            ]
          },
          "metadata": {
            "tags": []
          }
        },
        {
          "output_type": "display_data",
          "data": {
            "application/javascript": [
              "download(\"download_63fe9cd5-af3e-4025-a126-14477ee33025\", \"result.csv\", 36033)"
            ],
            "text/plain": [
              "<IPython.core.display.Javascript object>"
            ]
          },
          "metadata": {
            "tags": []
          }
        }
      ]
    }
  ]
}