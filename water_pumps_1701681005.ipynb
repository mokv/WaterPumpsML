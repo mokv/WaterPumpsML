{
  "nbformat": 4,
  "nbformat_minor": 0,
  "metadata": {
    "colab": {
      "name": "water_pumps_1701681005.ipynb",
      "provenance": [],
      "collapsed_sections": [],
      "authorship_tag": "ABX9TyPQJ38gNFW+1gVwPoUa0TMu",
      "include_colab_link": true
    },
    "kernelspec": {
      "name": "python3",
      "display_name": "Python 3"
    },
    "language_info": {
      "name": "python"
    }
  },
  "cells": [
    {
      "cell_type": "markdown",
      "metadata": {
        "id": "view-in-github",
        "colab_type": "text"
      },
      "source": [
        "<a href=\"https://colab.research.google.com/github/mokv/WaterPumpsML/blob/main/water_pumps_1701681005.ipynb\" target=\"_parent\"><img src=\"https://colab.research.google.com/assets/colab-badge.svg\" alt=\"Open In Colab\"/></a>"
      ]
    },
    {
      "cell_type": "markdown",
      "metadata": {
        "id": "8L5OkEnaFH4V"
      },
      "source": [
        "#Описание на избрания модел"
      ]
    },
    {
      "cell_type": "markdown",
      "metadata": {
        "id": "7w0E39DlFKND"
      },
      "source": [
        "#Код за четене и обработка (pre-processing) на входните данни за обучение на мрежата.\n"
      ]
    },
    {
      "cell_type": "code",
      "metadata": {
        "colab": {
          "base_uri": "https://localhost:8080/"
        },
        "id": "wDxU31k2FVhB",
        "outputId": "60725f89-06c8-4154-ffcb-7095eddfc448"
      },
      "source": [
        "import pandas as pd\n",
        "\n",
        "pumps_train_data = pd.read_csv('https://ml.monov.eu/pumps/train_pumps.csv')\n",
        "\n",
        "print(pumps_train_data.head())"
      ],
      "execution_count": 4,
      "outputs": [
        {
          "output_type": "stream",
          "text": [
            "      id  amount_tsh  ... waterpoint_type_group             status_group\n",
            "0  71382         0.0  ...                 other  functional needs repair\n",
            "1  67471        20.0  ...    communal standpipe  functional needs repair\n",
            "2  22778       200.0  ...    communal standpipe  functional needs repair\n",
            "3  26356       500.0  ...    communal standpipe                   others\n",
            "4  70935         0.0  ...                 other  functional needs repair\n",
            "\n",
            "[5 rows x 39 columns]\n"
          ],
          "name": "stdout"
        }
      ]
    },
    {
      "cell_type": "markdown",
      "metadata": {
        "id": "orIa7qzbFMPz"
      },
      "source": [
        "#Код за обучение и тестване на създадения модел по дадени входни данни за обучение и тестване."
      ]
    },
    {
      "cell_type": "code",
      "metadata": {
        "id": "ZltTsNypF9R4"
      },
      "source": [
        ""
      ],
      "execution_count": null,
      "outputs": []
    },
    {
      "cell_type": "markdown",
      "metadata": {
        "id": "zdsCf1MyFNzr"
      },
      "source": [
        "#Сравнение на различни модели и параметри за обучение, като брой и големина на скрити слоеве, брой епохи, скорост на обучение / learning rate, както и таблица, сравняваща различните резултати и показваща каква е точността (accuracy) на различните модели."
      ]
    },
    {
      "cell_type": "markdown",
      "metadata": {
        "id": "elh1eu9qFQPT"
      },
      "source": [
        "#Графики на загубата и точността на моделите."
      ]
    },
    {
      "cell_type": "markdown",
      "metadata": {
        "id": "2NJrrpoiFR0z"
      },
      "source": [
        "#Заключение, кой модел и параметри работят най-добре за решаване на проблема."
      ]
    },
    {
      "cell_type": "markdown",
      "metadata": {
        "id": "6hlP2-n0FThS"
      },
      "source": [
        "#Да се създаде изходен файл result.csv, който да съдържа предвидените стойности, от тестовия набор от данни."
      ]
    }
  ]
}